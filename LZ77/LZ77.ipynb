{
 "cells": [
  {
   "cell_type": "markdown",
   "source": [
    "# DiscreteLab №2: Huffman, LZW and LZ77\n",
    "## Held by: Eugene Bevz; Completeness: 80%"
   ],
   "metadata": {
    "collapsed": false
   }
  },
  {
   "cell_type": "code",
   "execution_count": 14,
   "outputs": [],
   "source": [
    "from typing import List, Tuple"
   ],
   "metadata": {
    "collapsed": false
   }
  },
  {
   "cell_type": "markdown",
   "source": [
    "## LZ77 - Old But Fresh\n",
    "Here we attempted to code LZ77 compression and decompression algorithm, which is used to compress messages or files."
   ],
   "metadata": {
    "collapsed": false
   }
  },
  {
   "cell_type": "code",
   "execution_count": 15,
   "outputs": [
    {
     "name": "stdout",
     "output_type": "stream",
     "text": [
      "The steadfast love of the Lord never ceases; his mercies never come to an end; they are new every morning; great is your faithfulness.\n",
      "\n",
      "So we do not lose heart. Though our outer self is wasting away, our inner self is being renewed day by day. For this light momentary affliction is preparing for us an eternal weight of glory beyond all comparison, as we look not to the things that are seen but to the things that are unseen. For the things that are seen are transient, but the things that are unseen are eternal.\n",
      "\n",
      "\n",
      "\n",
      "1 The words of king Lemuel, the prophecy that his amother taught him.\n",
      "\n",
      "2 What, my son? and what, the son of my womb? and what, the son of my vows?\n",
      "\n",
      "3 Give not thy strength unto awomen, nor thy ways to that which destroyeth kings.\n",
      "\n",
      "4 It is not for kings, O Lemuel, it is not for kings to drink awine; nor for princes strong drink:\n",
      "\n",
      "5 Lest they drink, and forget the law, and pervert the judgment of any of the afflicted.\n",
      "\n",
      "6 Give strong drink unto him that is ready to perish, and wine unto those that be of heavy hearts.\n",
      "\n",
      "7 Let him drink, and forget his poverty, and remember his misery no more.\n",
      "\n",
      "8 Open thy mouth for the dumb in the cause of all such as are appointed to destruction.\n",
      "\n",
      "9 Open thy mouth, judge righteously, and plead the acause of the poor and needy.\n",
      "\n",
      "10 ¶ Who can find a avirtuous bwoman? for her price is far above rubies.\n",
      "\n",
      "11 The heart of her husband doth safely atrust in her, so that he shall have no need of spoil.\n",
      "\n",
      "12 She will do him good and not evil all the days of her life.\n",
      "\n",
      "13 She seeketh wool, and flax, and worketh willingly with her ahands.\n",
      "\n",
      "14 She is like the merchants’ ships; she bringeth her food from afar.\n",
      "\n",
      "15 She ariseth also while it is yet night, and giveth meat to her household, and a portion to her maidens.\n",
      "\n",
      "16 She considereth a field, and buyeth it: with the fruit of her hands she planteth a vineyard.\n",
      "\n",
      "17 She girdeth her loins with strength, and strengtheneth her arms.\n",
      "\n",
      "18 She perceiveth that her merchandise is good: her candle goeth not out by night.\n",
      "\n",
      "19 She layeth her hands to the spindle, and her hands hold the adistaff.\n",
      "\n",
      "20 She stretcheth out her hand to the apoor; yea, she reacheth forth her hands to the needy.\n",
      "\n",
      "21 She is not afraid of the snow for her household: for all her household are clothed with scarlet.\n",
      "\n",
      "22 She maketh herself coverings of tapestry; her aclothing is silk and purple.\n",
      "\n",
      "23 Her husband is known in the gates, when he sitteth among the elders of the land.\n",
      "\n",
      "24 She maketh fine linen, and selleth it; and delivereth girdles unto the merchant.\n",
      "\n",
      "25 Strength and honour are her aclothing; and she shall rejoice in time to come.\n",
      "\n",
      "26 She openeth her mouth with wisdom; and in her tongue is the law of akindness.\n",
      "\n",
      "27 She looketh well to the ways of her household, and eateth not the bread of aidleness.\n",
      "\n",
      "28 Her children arise up, and call her blessed; her husband also, and he praiseth her.\n",
      "\n",
      "29 Many daughters have done virtuously, but thou excellest them all.\n",
      "\n",
      "30 Favour is deceitful, and abeauty is vain: but a woman that bfeareth the Lord, she shall be praised.\n",
      "\n",
      "31 Give her of the fruit of her hands; and let her own works praise her in the gates.\n"
     ]
    }
   ],
   "source": [
    "def read_file(filename: str) -> str:\n",
    "    \"\"\"\n",
    "    Read file and return a solid string with data.\n",
    "\n",
    "    :param filename: path to file\n",
    "    :return: string with text\n",
    "    \"\"\"\n",
    "    with open(filename, 'r') as file:\n",
    "        return file.read()\n",
    "\n",
    "\n",
    "print(read_file('short'))\n",
    "print(read_file('medium'))\n",
    "print(read_file('long'))"
   ],
   "metadata": {
    "collapsed": false
   }
  },
  {
   "cell_type": "markdown",
   "source": [
    "## Initialise class and compress/decompress methods\n",
    "The `LZ77` can't be described as super unique class, as it only has two methods: `compress` and `decompress`, the names of which tell us what they are supposed to do.\n",
    "\n",
    "\n",
    "`compress` generates a list of codes in format __<offset, length, next>__, that represent some part of data that repeats itself. By doing so, we receive a list, each element of which tells us: \"step back _offset_ steps, repeat that part _length_ times and put _next_ after it\".\n",
    "\n",
    "\n",
    "`decompress` uses the mentioned list of codes and rebuilds the initial string with it. Decompressing is actually similar to compressing, as it looks at every __<offset, length, next>__ and does almost the same as compressing: step back, copy, add symbol in the end.\n",
    "\n",
    "\n",
    "The list of codes may vary, depending on searching window and buffer size. The bigger it is, the more accurate compression is, however memory consumption rises accordingly.\n",
    "Currently, methods are not perfectly accurate, perhaps they're able to handle tha major part of work."
   ],
   "metadata": {
    "collapsed": false
   }
  },
  {
   "cell_type": "code",
   "execution_count": 16,
   "outputs": [],
   "source": [
    "class LZ77:\n",
    "    def __init__(self, buffer_size: int = 5, box_size: int = 5):\n",
    "        self.buffer_size = buffer_size\n",
    "        self.box_size = box_size\n",
    "\n",
    "    def compress(self, message: str) -> List[Tuple[int, int, str]]:\n",
    "        \"\"\"\n",
    "        Compress message.\n",
    "\n",
    "        :param message: a message to be compressed\n",
    "        :return: list of tuples(<offset, length, next_character>)\n",
    "        \"\"\"\n",
    "        cursor = 0\n",
    "        compressed = []\n",
    "        while cursor < len(message):\n",
    "            pattern = (0, 0, '')\n",
    "            # make a \"window\" to look over text parts =====================\n",
    "            box_begin = max(0, cursor - self.box_size)\n",
    "            box_end = cursor + self.buffer_size\n",
    "            # make a buffer to store data =================================\n",
    "            buffer_end = min(box_end, len(message))\n",
    "            buffer_begin = max(0, buffer_end - self.buffer_size)\n",
    "\n",
    "            buffer = message[buffer_begin:buffer_end]\n",
    "            box = message[box_begin:cursor]\n",
    "\n",
    "            for i in range(len(buffer)):\n",
    "                j = box.rfind(buffer[:i + 1])\n",
    "                if j != -1:\n",
    "                    pattern = (cursor - box_begin - j, i + 1, buffer[i + 1])\n",
    "            if pattern == (0, 0, ''):\n",
    "                # no pattern found, encode the current character\n",
    "                pattern = (0, 0, message[cursor])\n",
    "                cursor += 1\n",
    "            else:\n",
    "                cursor += pattern[1]\n",
    "            compressed.append(pattern)\n",
    "\n",
    "        return compressed\n",
    "\n",
    "    def decompress(self, compressed: List[Tuple[int, int, str]]) -> str:\n",
    "        \"\"\"\n",
    "        Decompress data.\n",
    "\n",
    "        :param compressed: list of tuples(<offset, length, next_character>)\n",
    "        :return: original string\n",
    "        \"\"\"\n",
    "        decompressed = ''\n",
    "        last_char = ''\n",
    "        for pattern in compressed:\n",
    "            if pattern[0] == pattern[1] == 0:\n",
    "                if pattern[2] != last_char:\n",
    "                    decompressed += pattern[2]\n",
    "                    last_char = pattern[2]\n",
    "            else:\n",
    "                offset = len(decompressed) - pattern[0]\n",
    "                for i in range(pattern[1]):\n",
    "                    decompressed += decompressed[offset + i]\n",
    "                    last_char = decompressed[-1]\n",
    "                decompressed += pattern[2]\n",
    "                last_char = pattern[2]\n",
    "        return decompressed"
   ],
   "metadata": {
    "collapsed": false
   }
  },
  {
   "cell_type": "code",
   "execution_count": 17,
   "outputs": [
    {
     "name": "stdout",
     "output_type": "stream",
     "text": [
      "Compressed 1:  [(0, 0, 'T'), (0, 0, 'h'), (0, 0, 'e'), (0, 0, ' '), (0, 0, 's'), (0, 0, 't'), (4, 1, 'a'), (0, 0, 'a'), (0, 0, 'd'), (0, 0, 'f'), (3, 1, 's'), (0, 0, 's'), (0, 0, 't'), (0, 0, ' '), (0, 0, 'l'), (0, 0, 'o'), (0, 0, 'v'), (0, 0, 'e'), (5, 1, 'o'), (4, 1, 'f'), (0, 0, 'f'), (3, 1, 't'), (0, 0, 't'), (0, 0, 'h'), (0, 0, 'e'), (4, 1, 'L'), (0, 0, 'L'), (0, 0, 'o'), (0, 0, 'r'), (0, 0, 'd'), (5, 1, 'n'), (0, 0, 'n'), (0, 0, 'e'), (0, 0, 'v'), (2, 1, 'r'), (0, 0, 'r'), (0, 0, ' '), (0, 0, 'c'), (4, 1, 'a'), (0, 0, 'a'), (0, 0, 's'), (3, 1, 's'), (2, 1, ';'), (0, 0, ';'), (0, 0, ' '), (0, 0, 'h'), (0, 0, 'i'), (5, 1, ' '), (4, 1, 'm'), (0, 0, 'm'), (0, 0, 'e'), (0, 0, 'r'), (0, 0, 'c'), (0, 0, 'i'), (4, 1, 's'), (0, 0, 's'), (0, 0, ' '), (0, 0, 'n'), (4, 1, 'v'), (0, 0, 'v'), (2, 1, 'r'), (0, 0, 'r'), (0, 0, ' '), (0, 0, 'c'), (0, 0, 'o'), (0, 0, 'm'), (0, 0, 'e'), (5, 1, 't'), (0, 0, 't'), (5, 1, ' '), (3, 1, 'a'), (0, 0, 'a'), (0, 0, 'n'), (3, 1, 'e'), (0, 0, 'e'), (3, 1, 'd'), (0, 0, 'd'), (0, 0, ';'), (5, 1, 't'), (0, 0, 't'), (0, 0, 'h'), (0, 0, 'e'), (0, 0, 'y'), (5, 1, 'a'), (0, 0, 'a'), (0, 0, 'r'), (5, 1, ' '), (4, 1, 'n'), (0, 0, 'n'), (3, 1, 'w'), (0, 0, 'w'), (4, 1, 'e'), (3, 1, 'v'), (0, 0, 'v'), (2, 1, 'r'), (0, 0, 'r'), (0, 0, 'y'), (0, 0, ' '), (0, 0, 'm'), (0, 0, 'o'), (5, 1, 'n'), (0, 0, 'n'), (0, 0, 'i'), (2, 1, 'g'), (0, 0, 'g'), (0, 0, ';'), (0, 0, ' '), (3, 1, 'r'), (0, 0, 'r'), (0, 0, 'e'), (0, 0, 'a'), (0, 0, 't'), (0, 0, ' '), (0, 0, 'i'), (0, 0, 's'), (3, 1, 'y'), (0, 0, 'y'), (0, 0, 'o'), (0, 0, 'u'), (0, 0, 'r'), (5, 1, 'f'), (0, 0, 'f'), (0, 0, 'a'), (0, 0, 'i'), (0, 0, 't'), (0, 0, 'h'), (5, 1, 'u'), (0, 0, 'u'), (0, 0, 'l'), (0, 0, 'n'), (0, 0, 'e'), (1, 1, 's'), (2, 2, 's'), (4, 4, '\\n')] \n",
      "\n",
      "Compressed 2:  [(0, 0, 'S'), (0, 0, 'o'), (0, 0, ' '), (0, 0, 'w'), (0, 0, 'e'), (3, 1, 'd'), (0, 0, 'd'), (0, 0, 'o'), (3, 1, 'n'), (0, 0, 'n'), (3, 1, 't'), (0, 0, 't'), (4, 1, 'l'), (0, 0, 'l'), (4, 1, 's'), (0, 0, 's'), (0, 0, 'e'), (5, 1, 'h'), (0, 0, 'h'), (3, 1, 'a'), (0, 0, 'a'), (0, 0, 'r'), (0, 0, 't'), (0, 0, '.'), (0, 0, ' '), (0, 0, 'T'), (0, 0, 'h'), (0, 0, 'o'), (0, 0, 'u'), (0, 0, 'g'), (4, 1, ' '), (0, 0, ' '), (5, 2, 'r'), (0, 0, 'r'), (4, 3, 't'), (0, 0, 't'), (0, 0, 'e'), (0, 0, 'r'), (0, 0, ' '), (0, 0, 's'), (4, 1, 'l'), (0, 0, 'l'), (0, 0, 'f'), (5, 1, 'i'), (0, 0, 'i'), (0, 0, 's'), (3, 1, 'w'), (0, 0, 'w'), (0, 0, 'a'), (4, 1, 't'), (0, 0, 't'), (0, 0, 'i'), (0, 0, 'n'), (0, 0, 'g'), (0, 0, ' '), (0, 0, 'a'), (0, 0, 'w'), (2, 1, 'y'), (0, 0, 'y'), (0, 0, ','), (0, 0, ' '), (0, 0, 'o'), (0, 0, 'u'), (0, 0, 'r'), (4, 1, 'i'), (0, 0, 'i'), (0, 0, 'n'), (1, 1, 'e'), (0, 0, 'e'), (0, 0, 'r'), (0, 0, ' '), (0, 0, 's'), (4, 1, 'l'), (0, 0, 'l'), (0, 0, 'f'), (5, 1, 'i'), (0, 0, 'i'), (0, 0, 's'), (3, 1, 'b'), (0, 0, 'b'), (0, 0, 'e'), (5, 1, 'n'), (0, 0, 'n'), (0, 0, 'g'), (0, 0, ' '), (0, 0, 'r'), (0, 0, 'e'), (5, 1, 'e'), (2, 1, 'w'), (0, 0, 'w'), (2, 1, 'd'), (0, 0, 'd'), (0, 0, ' '), (2, 1, 'a'), (0, 0, 'a'), (0, 0, 'y'), (4, 1, 'b'), (0, 0, 'b'), (3, 2, 'd'), (0, 0, 'd'), (0, 0, 'a'), (4, 1, '.'), (0, 0, '.'), (5, 1, 'F'), (0, 0, 'F'), (0, 0, 'o'), (0, 0, 'r'), (4, 1, 't'), (0, 0, 't'), (0, 0, 'h'), (0, 0, 'i'), (0, 0, 's'), (5, 1, 'l'), (0, 0, 'l'), (4, 1, 'g'), (0, 0, 'g'), (0, 0, 'h'), (0, 0, 't'), (0, 0, ' '), (0, 0, 'm'), (0, 0, 'o'), (2, 1, 'e'), (0, 0, 'e'), (0, 0, 'n'), (0, 0, 't'), (0, 0, 'a'), (0, 0, 'r'), (0, 0, 'y'), (0, 0, ' '), (4, 1, 'f'), (0, 0, 'f'), (1, 1, 'l'), (0, 0, 'l'), (0, 0, 'i'), (0, 0, 'c'), (0, 0, 't'), (3, 1, 'o'), (0, 0, 'o'), (0, 0, 'n'), (0, 0, ' '), (4, 1, 's'), (0, 0, 's'), (3, 1, 'p'), (0, 0, 'p'), (0, 0, 'r'), (0, 0, 'e'), (3, 1, 'a'), (0, 0, 'a'), (4, 1, 'i'), (0, 0, 'i'), (0, 0, 'n'), (0, 0, 'g'), (0, 0, ' '), (0, 0, 'f'), (0, 0, 'o'), (0, 0, 'r'), (4, 1, 'u'), (0, 0, 'u'), (0, 0, 's'), (3, 1, 'a'), (0, 0, 'a'), (0, 0, 'n'), (3, 1, 'e'), (0, 0, 'e'), (0, 0, 't'), (2, 1, 'r'), (0, 0, 'r'), (0, 0, 'n'), (0, 0, 'a'), (0, 0, 'l'), (0, 0, ' '), (0, 0, 'w'), (0, 0, 'e'), (0, 0, 'i'), (0, 0, 'g'), (0, 0, 'h'), (0, 0, 't'), (0, 0, ' '), (0, 0, 'o'), (0, 0, 'f'), (3, 1, 'g'), (0, 0, 'g'), (0, 0, 'l'), (5, 1, 'r'), (0, 0, 'r'), (0, 0, 'y'), (0, 0, ' '), (0, 0, 'b'), (0, 0, 'e'), (4, 1, 'o'), (0, 0, 'o'), (0, 0, 'n'), (0, 0, 'd'), (0, 0, ' '), (0, 0, 'a'), (0, 0, 'l'), (1, 1, ' '), (4, 1, 'c'), (0, 0, 'c'), (0, 0, 'o'), (0, 0, 'm'), (0, 0, 'p'), (0, 0, 'a'), (0, 0, 'r'), (0, 0, 'i'), (0, 0, 's'), (0, 0, 'o'), (0, 0, 'n'), (0, 0, ','), (0, 0, ' '), (0, 0, 'a'), (0, 0, 's'), (3, 1, 'w'), (0, 0, 'w'), (0, 0, 'e'), (3, 1, 'l'), (0, 0, 'l'), (0, 0, 'o'), (1, 1, 'k'), (0, 0, 'k'), (5, 1, 'n'), (0, 0, 'n'), (4, 1, 't'), (0, 0, 't'), (4, 1, 't'), (2, 1, 'o'), (4, 1, ' '), (3, 2, 'h'), (0, 0, 'h'), (0, 0, 'e'), (4, 3, 'i'), (0, 0, 'i'), (0, 0, 'n'), (0, 0, 'g'), (0, 0, 's'), (0, 0, ' '), (0, 0, 't'), (0, 0, 'h'), (0, 0, 'a'), (3, 1, ' '), (5, 1, 'a'), (3, 1, 'r'), (0, 0, 'r'), (0, 0, 'e'), (4, 1, 's'), (0, 0, 's'), (3, 1, 'e'), (1, 1, 'n'), (0, 0, 'n'), (5, 1, 'b'), (0, 0, 'b'), (0, 0, 'u'), (0, 0, 't'), (4, 1, 't'), (2, 1, 'o'), (0, 0, 'o'), (3, 2, 'h'), (0, 0, 'h'), (0, 0, 'e'), (4, 3, 'i'), (0, 0, 'i'), (0, 0, 'n'), (0, 0, 'g'), (0, 0, 's'), (0, 0, ' '), (0, 0, 't'), (0, 0, 'h'), (0, 0, 'a'), (3, 1, ' '), (5, 1, 'a'), (3, 1, 'r'), (0, 0, 'r'), (0, 0, 'e'), (4, 1, 'u'), (0, 0, 'u'), (0, 0, 'n'), (0, 0, 's'), (5, 1, 'e'), (1, 1, 'n'), (4, 1, '.'), (0, 0, '.'), (0, 0, ' '), (0, 0, 'F'), (0, 0, 'o'), (0, 0, 'r'), (4, 1, 't'), (0, 0, 't'), (0, 0, 'h'), (0, 0, 'e'), (4, 3, 'i'), (0, 0, 'i'), (0, 0, 'n'), (0, 0, 'g'), (0, 0, 's'), (0, 0, ' '), (0, 0, 't'), (0, 0, 'h'), (0, 0, 'a'), (3, 1, ' '), (5, 1, 'a'), (3, 1, 'r'), (0, 0, 'r'), (0, 0, 'e'), (4, 1, 's'), (0, 0, 's'), (3, 1, 'e'), (1, 1, 'n'), (0, 0, 'n'), (5, 1, 'a'), (0, 0, 'a'), (0, 0, 'r'), (5, 1, ' '), (4, 1, 't'), (0, 0, 't'), (4, 1, 'a'), (0, 0, 'a'), (0, 0, 'n'), (0, 0, 's'), (0, 0, 'i'), (0, 0, 'e'), (4, 1, 't'), (0, 0, 't'), (0, 0, ','), (0, 0, ' '), (0, 0, 'b'), (0, 0, 'u'), (5, 1, ' '), (4, 1, 't'), (2, 1, 'h'), (0, 0, 'h'), (0, 0, 'e'), (4, 3, 'i'), (0, 0, 'i'), (0, 0, 'n'), (0, 0, 'g'), (0, 0, 's'), (0, 0, ' '), (0, 0, 't'), (0, 0, 'h'), (0, 0, 'a'), (3, 1, ' '), (5, 1, 'a'), (3, 1, 'r'), (0, 0, 'r'), (0, 0, 'e'), (4, 1, 'u'), (0, 0, 'u'), (0, 0, 'n'), (0, 0, 's'), (5, 1, 'e'), (1, 1, 'n'), (4, 1, ' '), (0, 0, ' '), (0, 0, 'a'), (0, 0, 'r'), (5, 1, ' '), (4, 1, 'e'), (2, 1, 't'), (0, 0, 't'), (2, 1, 'r'), (0, 0, 'r'), (0, 0, 'n'), (1, 1, 'a'), (2, 2, 'l'), (4, 4, '\\n')] \n",
      "\n",
      "=============================================================\n",
      "Decompressed 1:  The steadfast love ovfotheoLordonever ceasese; hie hmercies never come to tantend;ttheytare an waewvwry morning; great is your faithfulneesesssess\n",
      " \n",
      "\n",
      "Decompressed 2:  So we do not lose heart. Though our outer self is wasting away, our inner self is being renenwnd day by day. For this light momentary affliction is preparing for us an eternal weight of glory beyond all acomparison, as we look not t o  o heo hings that ta reaseeensbutstsotshetshings that ta reaunseeene. For the things that ta reaseeensare ateansient, but btbhetbhings that ta reaunseeene arn aeatarnnanalanal\n",
      " \n",
      "\n"
     ]
    }
   ],
   "source": [
    "short_to_compress = read_file('short')\n",
    "medium_to_compress = read_file('medium')\n",
    "long_to_compress = read_file('long')\n",
    "\n",
    "lz77 = LZ77()\n",
    "\n",
    "compressed_short = lz77.compress(short_to_compress)\n",
    "print(\"Compressed 1: \", compressed_short, '\\n')\n",
    "compressed_medium = lz77.compress(medium_to_compress)\n",
    "print(\"Compressed 2: \", compressed_medium, '\\n')\n",
    "# compressed_long = lz77.compress(long_to_compress)\n",
    "# print(\"Compressed 3: \", compressed_long, '\\n')\n",
    "\n",
    "print(\"=============================================================\")\n",
    "\n",
    "decompressed_short = lz77.decompress(compressed_short)\n",
    "print(\"Decompressed 1: \", decompressed_short, '\\n')\n",
    "decompressed_medium = lz77.decompress(compressed_medium)\n",
    "print(\"Decompressed 2: \", decompressed_medium, '\\n')\n",
    "# decompressed_long = lz77.decompress(compressed_long)\n",
    "# print(\"Decompressed 3: \", decompressed_long, '\\n')\n"
   ],
   "metadata": {
    "collapsed": false
   }
  }
 ],
 "metadata": {
  "kernelspec": {
   "display_name": "Python 3",
   "language": "python",
   "name": "python3"
  },
  "language_info": {
   "codemirror_mode": {
    "name": "ipython",
    "version": 2
   },
   "file_extension": ".py",
   "mimetype": "text/x-python",
   "name": "python",
   "nbconvert_exporter": "python",
   "pygments_lexer": "ipython2",
   "version": "2.7.6"
  }
 },
 "nbformat": 4,
 "nbformat_minor": 0
}
