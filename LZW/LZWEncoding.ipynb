{
 "cells": [
  {
   "attachments": {},
   "cell_type": "markdown",
   "metadata": {},
   "source": [
    "# DiscreteLab №2: Huffman, LZW and LZ77\n",
    "### Held by: Eugene Bevz and Tymofii Shevchenko"
   ]
  },
  {
   "cell_type": "code",
   "execution_count": 5,
   "metadata": {},
   "outputs": [],
   "source": [
    "import time\n",
    "import matplotlib.pyplot as plt\n",
    "import os"
   ]
  },
  {
   "attachments": {},
   "cell_type": "markdown",
   "metadata": {},
   "source": [
    "## LZW algorithm (Tymofii Shevchenko)\n",
    "\n",
    "Here we studied the LZW algorithm for encoding and decoding messages."
   ]
  },
  {
   "cell_type": "code",
   "execution_count": 8,
   "metadata": {},
   "outputs": [],
   "source": [
    "\"\"\"\n",
    "LZW compression\n",
    "\"\"\"\n",
    "\n",
    "class Lzw:\n",
    "    def __init__(self) -> None:\n",
    "        self.encode_dict = {chr(i): i for i in range(256)}\n",
    "        self.decode_dict = {i: chr(i) for i in range(256)}\n",
    "\n",
    "\n",
    "    def encode(self, seq: str) -> list[int]:\n",
    "        \"\"\"\n",
    "        Compress message.\n",
    "\n",
    "        :param seq: string sequence to be compressed\n",
    "        :return: list of numbers\n",
    "        \"\"\"\n",
    "        add_dict = {}\n",
    "        idx = 256\n",
    "        pre_symbol = \"\"\n",
    "        codes = []\n",
    "\n",
    "        for symbol in seq:\n",
    "            ps = pre_symbol+symbol\n",
    "            if ps in self.encode_dict | add_dict:\n",
    "                pre_symbol = ps\n",
    "            else:\n",
    "                try:\n",
    "                    codes.append(self.encode_dict[pre_symbol])\n",
    "                except KeyError:\n",
    "                    codes.append(add_dict[pre_symbol])\n",
    "                add_dict[ps] = idx\n",
    "                idx += 1\n",
    "                pre_symbol = symbol\n",
    "\n",
    "        if pre_symbol != '':\n",
    "            try:\n",
    "                codes.append(self.encode_dict[pre_symbol])\n",
    "            except KeyError:\n",
    "                codes.append(add_dict[pre_symbol])\n",
    "        return codes\n",
    "\n",
    "\n",
    "    def decode(self, codes: list[int]) -> str:\n",
    "        \"\"\"\n",
    "        Decompress data.\n",
    "\n",
    "        :param codes: list of numbers\n",
    "        :return: original string\n",
    "        \"\"\"\n",
    "        add_dict = {}\n",
    "        idx = 256\n",
    "        result = []\n",
    "        pre_symbol = codes.pop(0)\n",
    "        result.append(self.decode_dict[pre_symbol])\n",
    "\n",
    "        for symbol in codes:\n",
    "            if symbol in self.decode_dict | add_dict:\n",
    "                try:\n",
    "                    entry = self.decode_dict[symbol]\n",
    "                except KeyError:\n",
    "                    entry = add_dict[symbol]\n",
    "            result.append(entry)\n",
    "            try:\n",
    "                add_dict[idx] = self.decode_dict[pre_symbol] + entry[0]\n",
    "            except KeyError:\n",
    "                add_dict[idx] = add_dict[pre_symbol] + entry[0]\n",
    "            idx += 1\n",
    "            pre_symbol = symbol\n",
    "        return ''.join(result)"
   ]
  },
  {
   "cell_type": "code",
   "execution_count": 3,
   "metadata": {},
   "outputs": [],
   "source": [
    "def read_file(filename: str) -> str:\n",
    "    \"\"\"\n",
    "    Read file with message and return list of lines\n",
    "    which will be encoded with Huffman algorithm. For now,\n",
    "    we will assume that message consists of one line.\n",
    "\n",
    "    :param filename: file with text to open\n",
    "    :return: list of message lines\n",
    "    \"\"\"\n",
    "    with open(filename, \"r\") as file:\n",
    "        return file.read()"
   ]
  },
  {
   "attachments": {},
   "cell_type": "markdown",
   "metadata": {},
   "source": [
    "## Analising speed"
   ]
  },
  {
   "cell_type": "code",
   "execution_count": 32,
   "metadata": {},
   "outputs": [
    {
     "data": {
      "image/png": "[encoded data removed]",
      "text/plain": [
       "<Figure size 640x480 with 1 Axes>"
      ]
     },
     "metadata": {},
     "output_type": "display_data"
    }
   ],
   "source": [
    "lzw = Lzw()\n",
    "\n",
    "\n",
    "t = []\n",
    "sizes = []\n",
    "for file in sorted(os.listdir('test_files/')):\n",
    "    data = read_file('test_files/'+ file)\n",
    "    sizes.append(os.path.getsize('test_files/'+ file)/1024)\n",
    "    timings = []\n",
    "    for i in range(5):\n",
    "        start = time.time()\n",
    "        lzw.encode(data)\n",
    "        stop = time.time()\n",
    "        timings.append(stop - start)\n",
    "    t.append(sum(timings) / len(timings))\n",
    "\n",
    "plt.plot(sorted(sizes), sorted(t))\n",
    "\n",
    "plt.ylabel('Time (seconds)')\n",
    "plt.xlabel('File sizes (kb)')\n",
    "plt.show()"
   ]
  }
 ],
 "metadata": {
  "kernelspec": {
   "display_name": "Python 3",
   "language": "python",
   "name": "python3"
  },
  "language_info": {
   "codemirror_mode": {
    "name": "ipython",
    "version": 3
   },
   "file_extension": ".py",
   "mimetype": "text/x-python",
   "name": "python",
   "nbconvert_exporter": "python",
   "pygments_lexer": "ipython3",
   "version": "3.11.0"
  },
  "orig_nbformat": 4
 },
 "nbformat": 4,
 "nbformat_minor": 2
}
